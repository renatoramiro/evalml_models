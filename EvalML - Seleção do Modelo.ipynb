{
 "cells": [
  {
   "cell_type": "code",
   "execution_count": null,
   "id": "9772af1c",
   "metadata": {},
   "outputs": [],
   "source": [
    "import pandas as pd\n",
    "import evalml\n",
    "import matplotlib.pyplot as plt"
   ]
  },
  {
   "cell_type": "code",
   "execution_count": null,
   "id": "05430923",
   "metadata": {},
   "outputs": [],
   "source": [
    "df = pd.read_csv('best_features_close_classifier_lag_2.csv', index_col=0)\n",
    "df.ww.init()\n",
    "df"
   ]
  },
  {
   "cell_type": "code",
   "execution_count": null,
   "id": "33bf4deb",
   "metadata": {},
   "outputs": [],
   "source": [
    "df.describe()"
   ]
  },
  {
   "cell_type": "code",
   "execution_count": null,
   "id": "0da68597",
   "metadata": {},
   "outputs": [],
   "source": [
    "df.info()"
   ]
  },
  {
   "cell_type": "markdown",
   "id": "f6f0d03b",
   "metadata": {},
   "source": [
    "## Dividindo a base entre treinamento e teste"
   ]
  },
  {
   "cell_type": "code",
   "execution_count": null,
   "id": "8bbf59f5",
   "metadata": {},
   "outputs": [],
   "source": [
    "X = df.drop(columns=['Target'], axis=1)\n",
    "y = df['Target']"
   ]
  },
  {
   "cell_type": "markdown",
   "id": "57830760",
   "metadata": {},
   "source": [
    "### Inferindo os tipos de variáveis"
   ]
  },
  {
   "cell_type": "code",
   "execution_count": null,
   "id": "b6c8385b",
   "metadata": {},
   "outputs": [],
   "source": [
    "from evalml.utils import infer_feature_types\n",
    "X = infer_feature_types(X)"
   ]
  },
  {
   "cell_type": "code",
   "execution_count": null,
   "id": "848e3689",
   "metadata": {},
   "outputs": [],
   "source": [
    "X.ww"
   ]
  },
  {
   "cell_type": "code",
   "execution_count": null,
   "id": "bb872474",
   "metadata": {},
   "outputs": [],
   "source": [
    "X_train, X_test, y_train, y_test = evalml.preprocessing.split_data(X, y, \n",
    "                                                                   problem_type='binary',\n",
    "                                                                   test_size=0.3,\n",
    "                                                                   random_seed=111)"
   ]
  },
  {
   "cell_type": "markdown",
   "id": "3a23ebf7",
   "metadata": {},
   "source": [
    "### Checando a base de treino"
   ]
  },
  {
   "cell_type": "code",
   "execution_count": null,
   "id": "438eccee",
   "metadata": {},
   "outputs": [],
   "source": [
    "from evalml.data_checks import DefaultDataChecks\n",
    "\n",
    "data_checks = DefaultDataChecks(problem_type=\"binary\", objective='f1')\n",
    "data_checks.validate(X_train, y_train)"
   ]
  },
  {
   "cell_type": "markdown",
   "id": "09c0c318",
   "metadata": {},
   "source": [
    "## Executando AutoML"
   ]
  },
  {
   "cell_type": "code",
   "execution_count": null,
   "id": "324a73b2",
   "metadata": {},
   "outputs": [],
   "source": [
    "from evalml.automl import AutoMLSearch"
   ]
  },
  {
   "cell_type": "code",
   "execution_count": null,
   "id": "d88b3084",
   "metadata": {
    "scrolled": true
   },
   "outputs": [],
   "source": [
    "automl = AutoMLSearch(X_train=X_train, y_train=y_train,\n",
    "                      objective='f1',\n",
    "                      max_batches=2,\n",
    "                      optimize_thresholds=True,\n",
    "                      verbose=True,\n",
    "                      additional_objectives=['auc'],\n",
    "                      problem_type='binary',\n",
    "                      random_seed=111)\n",
    "automl.search()"
   ]
  },
  {
   "cell_type": "markdown",
   "id": "667bd224",
   "metadata": {},
   "source": [
    "### Rankings dos melhores modelos"
   ]
  },
  {
   "cell_type": "code",
   "execution_count": null,
   "id": "864e1bfc",
   "metadata": {},
   "outputs": [],
   "source": [
    "automl.rankings"
   ]
  },
  {
   "cell_type": "code",
   "execution_count": null,
   "id": "2274e3b9",
   "metadata": {},
   "outputs": [],
   "source": [
    "# Melhor pipeline\n",
    "pipeline = automl.best_pipeline"
   ]
  },
  {
   "cell_type": "markdown",
   "id": "00441c7a",
   "metadata": {},
   "source": [
    "### Descrição do melhor pipeline"
   ]
  },
  {
   "cell_type": "code",
   "execution_count": null,
   "id": "b397ca4b",
   "metadata": {
    "scrolled": true
   },
   "outputs": [],
   "source": [
    "automl.describe_pipeline(12)"
   ]
  },
  {
   "cell_type": "code",
   "execution_count": null,
   "id": "86cd3600",
   "metadata": {},
   "outputs": [],
   "source": [
    "scores = pipeline.score(X_test, y_test, [\"f1\", 'auc'])"
   ]
  },
  {
   "cell_type": "code",
   "execution_count": null,
   "id": "16023d7c",
   "metadata": {},
   "outputs": [],
   "source": [
    "print('F1 score: {:.5f} - AUC score: {:.5f}'.format(scores['F1'], scores['AUC']))"
   ]
  },
  {
   "cell_type": "code",
   "execution_count": null,
   "id": "55ba8542",
   "metadata": {},
   "outputs": [],
   "source": [
    "pipeline.graph()"
   ]
  },
  {
   "cell_type": "code",
   "execution_count": null,
   "id": "7519ebcb",
   "metadata": {},
   "outputs": [],
   "source": [
    "y_pred = pipeline.predict(X_test)"
   ]
  },
  {
   "cell_type": "markdown",
   "id": "c59769c3",
   "metadata": {},
   "source": [
    "### Matrix de Confusão"
   ]
  },
  {
   "cell_type": "code",
   "execution_count": null,
   "id": "12f9c2f1",
   "metadata": {},
   "outputs": [],
   "source": [
    "from evalml.model_understanding.graphs import graph_confusion_matrix\n",
    "graph_confusion_matrix(y_test, y_pred, normalize_method='true')"
   ]
  },
  {
   "cell_type": "markdown",
   "id": "f80beb2f",
   "metadata": {},
   "source": [
    "### Classification Report"
   ]
  },
  {
   "cell_type": "code",
   "execution_count": null,
   "id": "67221f67",
   "metadata": {
    "scrolled": true
   },
   "outputs": [],
   "source": [
    "from sklearn.metrics import classification_report\n",
    "print(classification_report(y_test, y_pred))"
   ]
  },
  {
   "cell_type": "code",
   "execution_count": null,
   "id": "a0f7833e",
   "metadata": {},
   "outputs": [],
   "source": []
  }
 ],
 "metadata": {
  "kernelspec": {
   "display_name": "Python 3 (ipykernel)",
   "language": "python",
   "name": "python3"
  },
  "language_info": {
   "codemirror_mode": {
    "name": "ipython",
    "version": 3
   },
   "file_extension": ".py",
   "mimetype": "text/x-python",
   "name": "python",
   "nbconvert_exporter": "python",
   "pygments_lexer": "ipython3",
   "version": "3.7.11"
  }
 },
 "nbformat": 4,
 "nbformat_minor": 5
}
